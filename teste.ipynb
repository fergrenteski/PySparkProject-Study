{
 "cells": [
  {
   "cell_type": "code",
   "id": "initial_id",
   "metadata": {
    "collapsed": true,
    "ExecuteTime": {
     "end_time": "2025-06-28T14:50:41.811374Z",
     "start_time": "2025-06-28T14:50:41.136232Z"
    }
   },
   "source": [
    "# Importa a classe SparkSession, que é o ponto de entrada para usar DataFrame e SQL no Spark\n",
    "from pyspark.sql import SparkSession\n",
    "\n",
    "# Importa tipos de dados para definir o esquema (schema) das colunas do DataFrame\n",
    "from pyspark.sql.types import StructType, StructField, StringType, IntegerType\n",
    "\n",
    "# Cria ou obtém uma SparkSession chamada \"Spark\"\n",
    "# - appName define o nome da aplicação Spark\n",
    "# - master define onde o Spark vai rodar (local[*] usa todos os núcleos locais disponíveis)\n",
    "spark = (\n",
    "    SparkSession.builder\n",
    "    .appName(\"Spark\")\n",
    "    .master(\"local[*]\")\n",
    "    .getOrCreate()\n",
    ")\n",
    "\n",
    "# Define um esquema (schema) para o DataFrame\n",
    "# StructType representa a estrutura de várias colunas\n",
    "# StructField define o nome, tipo e se permite nulo (nullable) em cada coluna\n",
    "schema = StructType([\n",
    "    StructField(\"firstname\", StringType(), True),    # coluna firstname do tipo String\n",
    "    StructField(\"middlename\", StringType(), True),   # coluna middlename do tipo String\n",
    "    StructField(\"lastname\", StringType(), True),     # coluna lastname do tipo String\n",
    "    StructField(\"gender\", StringType(), True),       # coluna gender do tipo String\n",
    "    StructField(\"salary\", IntegerType(), True)       # coluna salary do tipo Integer\n",
    "])\n",
    "\n",
    "# Lê um arquivo CSV chamado \"employees.csv\" na pasta data/\n",
    "# - header=True indica que o CSV tem cabeçalho (nomes das colunas na primeira linha)\n",
    "# - schema=schema aplica o esquema definido acima, garantindo tipos de dados corretos\n",
    "df = spark.read.csv(\n",
    "    \"data/employees.csv\",\n",
    "    header=True,\n",
    "    schema=schema\n",
    ")\n",
    "\n",
    "# Exibe as primeiras linhas do DataFrame (por padrão, mostra 20 linhas)\n",
    "df.show()\n",
    "\n",
    "# Imprime a estrutura (schema) do DataFrame, mostrando nome e tipo de cada coluna\n",
    "df.printSchema()\n",
    "\n",
    "# Encerra a SparkSession e libera os recursos usados\n",
    "spark.stop()\n"
   ],
   "outputs": [
    {
     "name": "stdout",
     "output_type": "stream",
     "text": [
      "+---------+-----------+---------+------+------+\n",
      "|firstname| middlename| lastname|gender|salary|\n",
      "+---------+-----------+---------+------+------+\n",
      "|     John|    Michael|    Smith|     M| 58000|\n",
      "|     Emma|      Grace|  Johnson|     F| 72000|\n",
      "|   Oliver|      James|    Brown|     M| 64000|\n",
      "|   Sophia|     Louise|    Jones|     F| 69000|\n",
      "|  William|  Alexander|   Miller|     M| 53000|\n",
      "|      Ava|       Rose|    Davis|     F| 75000|\n",
      "|   Elijah|     Thomas|   Garcia|     M| 61000|\n",
      "| Isabella|      Marie| Martinez|     F| 82000|\n",
      "|    James|      David|Rodriguez|     M| 57000|\n",
      "|      Mia|  Elizabeth|Hernandez|     F| 67000|\n",
      "| Benjamin|     Joseph|    Lopez|     M| 73000|\n",
      "|Charlotte|       Anne| Gonzalez|     F| 79000|\n",
      "|    Lucas|    Anthony|   Wilson|     M| 56000|\n",
      "|   Amelia|       Lynn| Anderson|     F| 71000|\n",
      "|    Mason|     Edward|   Thomas|     M| 69000|\n",
      "|   Harper|       Jane|   Taylor|     F| 68000|\n",
      "|    Ethan|     Samuel|    Moore|     M| 60000|\n",
      "|   Evelyn|     Claire|  Jackson|     F| 76000|\n",
      "|    Logan|Christopher|    White|     M| 55000|\n",
      "|  Abigail|      Faith|      Lee|     F| 72000|\n",
      "+---------+-----------+---------+------+------+\n",
      "\n",
      "root\n",
      " |-- firstname: string (nullable = true)\n",
      " |-- middlename: string (nullable = true)\n",
      " |-- lastname: string (nullable = true)\n",
      " |-- gender: string (nullable = true)\n",
      " |-- salary: integer (nullable = true)\n",
      "\n"
     ]
    }
   ],
   "execution_count": 3
  },
  {
   "metadata": {},
   "cell_type": "code",
   "outputs": [],
   "execution_count": null,
   "source": "",
   "id": "128e84f438e1f99c"
  }
 ],
 "metadata": {
  "kernelspec": {
   "display_name": "Python 3",
   "language": "python",
   "name": "python3"
  },
  "language_info": {
   "codemirror_mode": {
    "name": "ipython",
    "version": 2
   },
   "file_extension": ".py",
   "mimetype": "text/x-python",
   "name": "python",
   "nbconvert_exporter": "python",
   "pygments_lexer": "ipython2",
   "version": "2.7.6"
  }
 },
 "nbformat": 4,
 "nbformat_minor": 5
}
